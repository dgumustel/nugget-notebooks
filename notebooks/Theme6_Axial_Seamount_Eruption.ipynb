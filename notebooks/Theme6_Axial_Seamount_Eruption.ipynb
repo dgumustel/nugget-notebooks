{
 "cells": [
  {
   "cell_type": "markdown",
   "metadata": {
    "colab_type": "text",
    "id": "OoQxh3aneS5M"
   },
   "source": [
    "# Theme 6 - Plate-scale Geodynamics\n",
    "OOI Data Labs Education Nuggets\n",
    "\n",
    "_Written by Lori Garzio, Rutgers University_\n",
    "\n",
    "_Disclaimer: data used in this example were downloaded on Aug 19, 2019. The file format and/or contents could have changed._\n",
    "\n",
    "**Objective**: Demonstrate how to download Bottom Pressure and Tilt data from the OOI system using the Machine-to-Machine (M2M) interface and export the data as a .csv file."
   ]
  },
  {
   "cell_type": "code",
   "execution_count": 1,
   "metadata": {
    "colab": {
     "base_uri": "https://localhost:8080/",
     "height": 127
    },
    "colab_type": "code",
    "id": "Ey4nt43pq-yt",
    "outputId": "3ffbaf02-acf3-4816-bb4b-2840382527d8"
   },
   "outputs": [
    {
     "name": "stderr",
     "output_type": "stream",
     "text": [
      "/Users/lgarzio/anaconda3/lib/python3.7/site-packages/dask/config.py:168: YAMLLoadWarning: calling yaml.load() without Loader=... is deprecated, as the default Loader is unsafe. Please read https://msg.pyyaml.org/load for full details.\n",
      "  data = yaml.load(f.read()) or {}\n"
     ]
    }
   ],
   "source": [
    "# Notebook Setup\n",
    "import requests\n",
    "import os\n",
    "import re\n",
    "import xarray as xr\n",
    "import pandas as pd\n",
    "import numpy as np\n",
    "import matplotlib.pyplot as plt"
   ]
  },
  {
   "cell_type": "markdown",
   "metadata": {
    "colab_type": "text",
    "id": "t1ZezcZjeoUd"
   },
   "source": [
    "## 1. Request Data from OOINet\n",
    "\n",
    "* **Cabled Axial Seamount** - Central Caldera: Bottom Pressure and Tilt\n",
    "    * Instrument: RS03CCAL-MJ03F-05-BOTPTA301\n",
    "    * Time range: 2015-04-10 to 2015-05-15\n",
    "    * Delivery method: streamed\n",
    "    * Data stream: botpt_nano_sample\n",
    "    * Parameter name: bottom_pressure"
   ]
  },
  {
   "cell_type": "markdown",
   "metadata": {},
   "source": [
    "The **request_data** function below sends data requests with inputs specified by the user to OOINet and returns the THREDDs urls where the downloaded data files can be found."
   ]
  },
  {
   "cell_type": "code",
   "execution_count": 2,
   "metadata": {},
   "outputs": [],
   "source": [
    "# enter your OOI API username and token, and directory where output .csv files are saved\n",
    "API_USERNAME = ''\n",
    "API_TOKEN = ''\n",
    "save_dir = '/Users/lgarzio/Documents/OOI/Nuggets/'"
   ]
  },
  {
   "cell_type": "code",
   "execution_count": 3,
   "metadata": {
    "colab": {},
    "colab_type": "code",
    "id": "B8cTVmt5mhsA"
   },
   "outputs": [],
   "source": [
    "def request_data(reference_designator, method, stream, start_date=None, end_date=None):\n",
    "    site = reference_designator[:8]\n",
    "    node = reference_designator[9:14]\n",
    "    instrument = reference_designator[15:]\n",
    "\n",
    "    # Create the request URL\n",
    "    api_base_url = 'https://ooinet.oceanobservatories.org/api/m2m/12576/sensor/inv'\n",
    "    data_request_url = '/'.join((api_base_url, site, node, instrument, method, stream))\n",
    "\n",
    "    # All of the following are optional, but you should specify a date range\n",
    "    params = {\n",
    "        'format': 'application/netcdf',\n",
    "        'include_provenance': 'true',\n",
    "        'include_annotations': 'true'\n",
    "    }\n",
    "    if start_date:\n",
    "        params['beginDT'] = start_date\n",
    "    if end_date:\n",
    "        params['endDT'] = end_date\n",
    "\n",
    "    # Make the data request\n",
    "    r = requests.get(data_request_url, params=params, auth=(API_USERNAME, API_TOKEN))\n",
    "    data = r.json()\n",
    "\n",
    "    # Return just the THREDDS URL\n",
    "    return data['allURLs'][0]"
   ]
  },
  {
   "cell_type": "markdown",
   "metadata": {},
   "source": [
    "Now, use that **request_data** function to download data for this instrument. You only need to do this once! These lines are commented out to prevent accidental re-submission of data requests."
   ]
  },
  {
   "cell_type": "code",
   "execution_count": 4,
   "metadata": {
    "colab": {},
    "colab_type": "code",
    "id": "GDx1obDmm11u"
   },
   "outputs": [],
   "source": [
    "# url = request_data('RS03CCAL-MJ03F-05-BOTPTA301', 'streamed', 'botpt_nano_sample',\n",
    "#                    '2015-04-10T00:00:00.000Z', '2015-05-15T00:00:00.000Z')\n",
    "# print('url = %s' %url)"
   ]
  },
  {
   "cell_type": "markdown",
   "metadata": {
    "colab_type": "text",
    "id": "UX_TNzTqephc"
   },
   "source": [
    "## 2. Load Data Files\n",
    "\n",
    "Copy the links to the THREDDs catalog above that resulted from the **request_data** function (to avoid re-requesting the data). Note: the url must be surrounded by quotations. \n",
    "\n",
    "**Note**: this data request may take a while to fulfill because it's a very dense dataset. Later on we will calculate minute-averaged data to make the dataset more manageable."
   ]
  },
  {
   "cell_type": "code",
   "execution_count": 5,
   "metadata": {
    "colab": {},
    "colab_type": "code",
    "id": "_zkTLF5gtPZx"
   },
   "outputs": [],
   "source": [
    "url = 'https://opendap.oceanobservatories.org/thredds/catalog/ooi/lgarzio@marine.rutgers.edu/20190819T185047529Z-RS03CCAL-MJ03F-05-BOTPTA301-streamed-botpt_nano_sample/catalog.html'"
   ]
  },
  {
   "cell_type": "markdown",
   "metadata": {},
   "source": [
    "The **get_data** function below:\n",
    "* selects the appropriate datasets in a THREDDs catalog by selecting NetCDF files and removing collocated datasets (if provided)\n",
    "* creates an empty dictionary with placeholders to populate with data just for variables of interest\n",
    "* creates another dictionary to store the units for the variables of interest\n",
    "* opens the dataset(s), extracts the data and units for the variables of interest and adds them to the dictionaries\n",
    "* converts the data dictionary to a dataframe\n",
    "* returns the dataframe and the dictionary containing the variable units. \n",
    "\n",
    "This type of function is most useful when working with multiple large/dense datasets (such as this cabled dataset), but is also fine for working with smaller datasets."
   ]
  },
  {
   "cell_type": "code",
   "execution_count": 6,
   "metadata": {
    "colab": {},
    "colab_type": "code",
    "id": "CIvFhvqdgBni"
   },
   "outputs": [],
   "source": [
    "def get_data(url, vars):\n",
    "    # Function to grab all data from specified directory\n",
    "    tds_url = 'https://opendap.oceanobservatories.org/thredds/dodsC'\n",
    "    dataset = requests.get(url).text\n",
    "    ii = re.findall(r'href=[\\'\"]?([^\\'\" >]+)', dataset)\n",
    "    # x = re.findall(r'(ooi/.*?.nc)', dataset)\n",
    "    x = [y for y in ii if y.endswith('.nc')]\n",
    "    for i in x:\n",
    "        if i.endswith('.nc') == False:\n",
    "            x.remove(i)\n",
    "    for i in x:\n",
    "        try:\n",
    "            float(i[-4])\n",
    "        except:\n",
    "            x.remove(i)\n",
    "    # dataset = [os.path.join(tds_url, i) for i in x]\n",
    "    datasets = [os.path.join(tds_url, i.split('=')[-1]) for i in x]\n",
    "\n",
    "    # remove collocated data files if necessary\n",
    "    catalog_rms = url.split('/')[-2][20:]\n",
    "    selected_datasets = []\n",
    "    for d in datasets:\n",
    "        if catalog_rms == d.split('/')[-1].split('_20')[0][15:]:\n",
    "            selected_datasets.append(d)\n",
    "\n",
    "    # create a dictionary to populate with data from the selected datasets\n",
    "    data_dict = {'time': np.array([], dtype='datetime64[ns]')}\n",
    "    unit_dict = {}\n",
    "    for v in vars:\n",
    "        data_dict.update({v: np.array([])})\n",
    "        unit_dict.update({v: []})\n",
    "\n",
    "    for sd in selected_datasets:\n",
    "        ds = xr.open_dataset(sd, mask_and_scale=False)\n",
    "        data_dict['time'] = np.append(data_dict['time'], ds['time'].values)\n",
    "        for var in vars:\n",
    "            data_dict[var] = np.append(data_dict[var], ds[var].values)\n",
    "            units = ds[var].units\n",
    "            if units not in unit_dict[var]:\n",
    "                unit_dict[var].append(units)\n",
    "\n",
    "    # convert dictionary to a dataframe\n",
    "    df = pd.DataFrame(data_dict)\n",
    "\n",
    "    return df, unit_dict"
   ]
  },
  {
   "cell_type": "code",
   "execution_count": 7,
   "metadata": {
    "colab": {},
    "colab_type": "code",
    "id": "L4dTLdWxgDU4"
   },
   "outputs": [
    {
     "name": "stdout",
     "output_type": "stream",
     "text": [
      "{'bottom_pressure': ['psia']}\n"
     ]
    }
   ],
   "source": [
    "# Specify the variable(s) of interest and get the data from the datasets - this may take a while\n",
    "# because this is a very high-resolution dataset\n",
    "variables = ['bottom_pressure']\n",
    "\n",
    "data, units = get_data(url, variables)\n",
    "print(units)"
   ]
  },
  {
   "cell_type": "code",
   "execution_count": 8,
   "metadata": {},
   "outputs": [
    {
     "data": {
      "text/html": [
       "<div>\n",
       "<style scoped>\n",
       "    .dataframe tbody tr th:only-of-type {\n",
       "        vertical-align: middle;\n",
       "    }\n",
       "\n",
       "    .dataframe tbody tr th {\n",
       "        vertical-align: top;\n",
       "    }\n",
       "\n",
       "    .dataframe thead th {\n",
       "        text-align: right;\n",
       "    }\n",
       "</style>\n",
       "<table border=\"1\" class=\"dataframe\">\n",
       "  <thead>\n",
       "    <tr style=\"text-align: right;\">\n",
       "      <th></th>\n",
       "      <th>time</th>\n",
       "      <th>bottom_pressure</th>\n",
       "    </tr>\n",
       "  </thead>\n",
       "  <tbody>\n",
       "    <tr>\n",
       "      <th>46654513</th>\n",
       "      <td>2015-04-10 00:00:00.000000000</td>\n",
       "      <td>2254.327881</td>\n",
       "    </tr>\n",
       "    <tr>\n",
       "      <th>46654514</th>\n",
       "      <td>2015-04-10 00:00:00.050000384</td>\n",
       "      <td>2254.327881</td>\n",
       "    </tr>\n",
       "    <tr>\n",
       "      <th>46654515</th>\n",
       "      <td>2015-04-10 00:00:00.099999744</td>\n",
       "      <td>2254.328369</td>\n",
       "    </tr>\n",
       "    <tr>\n",
       "      <th>46654516</th>\n",
       "      <td>2015-04-10 00:00:00.150000128</td>\n",
       "      <td>2254.328613</td>\n",
       "    </tr>\n",
       "    <tr>\n",
       "      <th>46654517</th>\n",
       "      <td>2015-04-10 00:00:00.200000000</td>\n",
       "      <td>2254.327881</td>\n",
       "    </tr>\n",
       "  </tbody>\n",
       "</table>\n",
       "</div>"
      ],
      "text/plain": [
       "                                  time  bottom_pressure\n",
       "46654513 2015-04-10 00:00:00.000000000      2254.327881\n",
       "46654514 2015-04-10 00:00:00.050000384      2254.327881\n",
       "46654515 2015-04-10 00:00:00.099999744      2254.328369\n",
       "46654516 2015-04-10 00:00:00.150000128      2254.328613\n",
       "46654517 2015-04-10 00:00:00.200000000      2254.327881"
      ]
     },
     "execution_count": 8,
     "metadata": {},
     "output_type": "execute_result"
    }
   ],
   "source": [
    "# make sure the timestamps are in ascending order\n",
    "data.sort_values(by=['time'], inplace=True)  \n",
    "\n",
    "# print the first few lines of the dataframe\n",
    "data.head()"
   ]
  },
  {
   "cell_type": "markdown",
   "metadata": {
    "colab_type": "text",
    "id": "iqBxQMaPOKlO"
   },
   "source": [
    "## Quick Data Plots\n",
    "Make quick plots to make sure you downloaded the correct data. First, we will need to calculate minute averages to make the dataset more manageable."
   ]
  },
  {
   "cell_type": "code",
   "execution_count": 9,
   "metadata": {},
   "outputs": [
    {
     "data": {
      "text/html": [
       "<div>\n",
       "<style scoped>\n",
       "    .dataframe tbody tr th:only-of-type {\n",
       "        vertical-align: middle;\n",
       "    }\n",
       "\n",
       "    .dataframe tbody tr th {\n",
       "        vertical-align: top;\n",
       "    }\n",
       "\n",
       "    .dataframe thead th {\n",
       "        text-align: right;\n",
       "    }\n",
       "</style>\n",
       "<table border=\"1\" class=\"dataframe\">\n",
       "  <thead>\n",
       "    <tr style=\"text-align: right;\">\n",
       "      <th></th>\n",
       "      <th>time</th>\n",
       "      <th>Bottom Pressure (psia)</th>\n",
       "    </tr>\n",
       "  </thead>\n",
       "  <tbody>\n",
       "    <tr>\n",
       "      <th>0</th>\n",
       "      <td>2015-04-10 00:00:00</td>\n",
       "      <td>2254.326463</td>\n",
       "    </tr>\n",
       "    <tr>\n",
       "      <th>1</th>\n",
       "      <td>2015-04-10 00:01:00</td>\n",
       "      <td>2254.326730</td>\n",
       "    </tr>\n",
       "    <tr>\n",
       "      <th>2</th>\n",
       "      <td>2015-04-10 00:02:00</td>\n",
       "      <td>2254.326402</td>\n",
       "    </tr>\n",
       "    <tr>\n",
       "      <th>3</th>\n",
       "      <td>2015-04-10 00:03:00</td>\n",
       "      <td>2254.328363</td>\n",
       "    </tr>\n",
       "    <tr>\n",
       "      <th>4</th>\n",
       "      <td>2015-04-10 00:04:00</td>\n",
       "      <td>2254.328497</td>\n",
       "    </tr>\n",
       "  </tbody>\n",
       "</table>\n",
       "</div>"
      ],
      "text/plain": [
       "                 time  Bottom Pressure (psia)\n",
       "0 2015-04-10 00:00:00             2254.326463\n",
       "1 2015-04-10 00:01:00             2254.326730\n",
       "2 2015-04-10 00:02:00             2254.326402\n",
       "3 2015-04-10 00:03:00             2254.328363\n",
       "4 2015-04-10 00:04:00             2254.328497"
      ]
     },
     "execution_count": 9,
     "metadata": {},
     "output_type": "execute_result"
    }
   ],
   "source": [
    "# rename and add units to the columns\n",
    "data = data.rename(columns={'bottom_pressure': 'Bottom Pressure ({})'.format(\n",
    "    units['bottom_pressure'][0])})\n",
    "\n",
    "# calculate minute averages\n",
    "df_minute = data.resample('T', on='time').mean().dropna(how='all').reset_index()\n",
    "df_minute.head()"
   ]
  },
  {
   "cell_type": "markdown",
   "metadata": {},
   "source": [
    "Now, plot the minute-averaged data."
   ]
  },
  {
   "cell_type": "code",
   "execution_count": 10,
   "metadata": {
    "colab": {
     "base_uri": "https://localhost:8080/",
     "height": 876
    },
    "colab_type": "code",
    "id": "0-XCeqpfpc1O",
    "outputId": "2e8c93d2-27a4-470b-b27c-17c8a84d579f"
   },
   "outputs": [
    {
     "data": {
      "image/png": "[encoded data removed]",
      "text/plain": [
       "<Figure size 432x288 with 1 Axes>"
      ]
     },
     "metadata": {
      "needs_background": "light"
     },
     "output_type": "display_data"
    }
   ],
   "source": [
    "fig, ax = plt.subplots()\n",
    "plt.plot(df_minute['time'], df_minute['Bottom Pressure (psia)'], '.')\n",
    "ax.invert_yaxis()\n",
    "ax.set_xlabel('')\n",
    "ax.set_ylabel('Bottom Pressure ({})'.format(units['bottom_pressure'][0]))\n",
    "ax.set_title('Cabled Axial Seamount - Central Caldera (minute averaged)')\n",
    "plt.xticks(rotation=35);"
   ]
  },
  {
   "cell_type": "markdown",
   "metadata": {},
   "source": [
    "Pressure in psia doesn't mean much to most oceanographers, so let's add another column to the dataframe to calculate pressure in dbar. A quick google search tells me that 1 psia = 0.689476 dbar."
   ]
  },
  {
   "cell_type": "code",
   "execution_count": 11,
   "metadata": {},
   "outputs": [
    {
     "data": {
      "text/html": [
       "<div>\n",
       "<style scoped>\n",
       "    .dataframe tbody tr th:only-of-type {\n",
       "        vertical-align: middle;\n",
       "    }\n",
       "\n",
       "    .dataframe tbody tr th {\n",
       "        vertical-align: top;\n",
       "    }\n",
       "\n",
       "    .dataframe thead th {\n",
       "        text-align: right;\n",
       "    }\n",
       "</style>\n",
       "<table border=\"1\" class=\"dataframe\">\n",
       "  <thead>\n",
       "    <tr style=\"text-align: right;\">\n",
       "      <th></th>\n",
       "      <th>time</th>\n",
       "      <th>Bottom Pressure (psia)</th>\n",
       "      <th>Bottom Pressure (dbar)</th>\n",
       "    </tr>\n",
       "  </thead>\n",
       "  <tbody>\n",
       "    <tr>\n",
       "      <th>0</th>\n",
       "      <td>2015-04-10 00:00:00</td>\n",
       "      <td>2254.326463</td>\n",
       "      <td>1554.303992</td>\n",
       "    </tr>\n",
       "    <tr>\n",
       "      <th>1</th>\n",
       "      <td>2015-04-10 00:01:00</td>\n",
       "      <td>2254.326730</td>\n",
       "      <td>1554.304176</td>\n",
       "    </tr>\n",
       "    <tr>\n",
       "      <th>2</th>\n",
       "      <td>2015-04-10 00:02:00</td>\n",
       "      <td>2254.326402</td>\n",
       "      <td>1554.303951</td>\n",
       "    </tr>\n",
       "    <tr>\n",
       "      <th>3</th>\n",
       "      <td>2015-04-10 00:03:00</td>\n",
       "      <td>2254.328363</td>\n",
       "      <td>1554.305302</td>\n",
       "    </tr>\n",
       "    <tr>\n",
       "      <th>4</th>\n",
       "      <td>2015-04-10 00:04:00</td>\n",
       "      <td>2254.328497</td>\n",
       "      <td>1554.305395</td>\n",
       "    </tr>\n",
       "  </tbody>\n",
       "</table>\n",
       "</div>"
      ],
      "text/plain": [
       "                 time  Bottom Pressure (psia)  Bottom Pressure (dbar)\n",
       "0 2015-04-10 00:00:00             2254.326463             1554.303992\n",
       "1 2015-04-10 00:01:00             2254.326730             1554.304176\n",
       "2 2015-04-10 00:02:00             2254.326402             1554.303951\n",
       "3 2015-04-10 00:03:00             2254.328363             1554.305302\n",
       "4 2015-04-10 00:04:00             2254.328497             1554.305395"
      ]
     },
     "execution_count": 11,
     "metadata": {},
     "output_type": "execute_result"
    }
   ],
   "source": [
    "df_minute['Bottom Pressure (dbar)'] = df_minute['Bottom Pressure (psia)'] * 0.689476\n",
    "df_minute.head()"
   ]
  },
  {
   "cell_type": "markdown",
   "metadata": {},
   "source": [
    "Make another plot, this time of the pressure in dbar. You can see the seafloor dropping by several decibars during the eruption on April 24 (in addition to the daily tidal cycle)."
   ]
  },
  {
   "cell_type": "code",
   "execution_count": 12,
   "metadata": {},
   "outputs": [
    {
     "data": {
      "image/png": "[encoded data removed]",
      "text/plain": [
       "<Figure size 432x288 with 1 Axes>"
      ]
     },
     "metadata": {
      "needs_background": "light"
     },
     "output_type": "display_data"
    }
   ],
   "source": [
    "fig, ax = plt.subplots()\n",
    "plt.plot(df_minute['time'], df_minute['Bottom Pressure (dbar)'], 'g.')\n",
    "ax.invert_yaxis()\n",
    "ax.set_xlabel('')\n",
    "ax.set_ylabel('Bottom Pressure (dbar)')\n",
    "ax.set_title('Cabled Axial Seamount - Central Caldera (minute averaged)')\n",
    "plt.xticks(rotation=45);"
   ]
  },
  {
   "cell_type": "markdown",
   "metadata": {},
   "source": [
    "## 3. Export to csv\n",
    "Export the minute-averaged dataset to a .csv file."
   ]
  },
  {
   "cell_type": "code",
   "execution_count": 13,
   "metadata": {
    "colab": {},
    "colab_type": "code",
    "id": "f1uV_LLRFTtb"
   },
   "outputs": [],
   "source": [
    "df_minute.sort_values(by=['time'], inplace=True)  # make sure the timestamps are in ascending order\n",
    "\n",
    "df_minute.to_csv(os.path.join(save_dir, 'Theme6_Axial_Seamount_Eruption.csv'), index=False)"
   ]
  }
 ],
 "metadata": {
  "colab": {
   "collapsed_sections": [],
   "name": "DL June Air-Sea v1.ipynb",
   "provenance": [],
   "toc_visible": true,
   "version": "0.3.2"
  },
  "kernelspec": {
   "display_name": "Python 3",
   "language": "python",
   "name": "python3"
  },
  "language_info": {
   "codemirror_mode": {
    "name": "ipython",
    "version": 3
   },
   "file_extension": ".py",
   "mimetype": "text/x-python",
   "name": "python",
   "nbconvert_exporter": "python",
   "pygments_lexer": "ipython3",
   "version": "3.7.2"
  }
 },
 "nbformat": 4,
 "nbformat_minor": 1
}
