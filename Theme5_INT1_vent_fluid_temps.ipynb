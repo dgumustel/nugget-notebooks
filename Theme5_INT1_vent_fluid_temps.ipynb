{
 "cells": [
  {
   "cell_type": "markdown",
   "metadata": {
    "colab_type": "text",
    "id": "OoQxh3aneS5M"
   },
   "source": [
    "# Theme 5 - Fluid-Rock Interactions and the Sub-Seafloor Biosphere\n",
    "OOI Data Labs Education Nuggets\n",
    "\n",
    "_Written by Lori Garzio, Rutgers University_\n",
    "\n",
    "_Disclaimer: data used in this example were downloaded on Nov 13, 2019. The file format and/or contents could have changed._\n",
    "\n",
    "**Objective**: Demonstrate how to download Cabled International District Vent Field 1 Vent Fluid Temperature data from the OOI system using the Machine-to-Machine (M2M) interface, downsample the dataset, and export as a .csv file."
   ]
  },
  {
   "cell_type": "code",
   "execution_count": 1,
   "metadata": {
    "colab": {
     "base_uri": "https://localhost:8080/",
     "height": 127
    },
    "colab_type": "code",
    "id": "Ey4nt43pq-yt",
    "outputId": "3ffbaf02-acf3-4816-bb4b-2840382527d8"
   },
   "outputs": [],
   "source": [
    "# Notebook Setup\n",
    "import requests\n",
    "import os\n",
    "import re\n",
    "import xarray as xr\n",
    "import pandas as pd\n",
    "import numpy as np\n",
    "import matplotlib.pyplot as plt"
   ]
  },
  {
   "cell_type": "markdown",
   "metadata": {
    "colab_type": "text",
    "id": "t1ZezcZjeoUd"
   },
   "source": [
    "## 1. Request Data from OOINet\n",
    "\n",
    "* **Cabled International District Vent Field 1:** Hydrothermal Vent Fluid Temperature and Resistivity\n",
    "    * Instrument: RS03INT1-MJ03C-10-TRHPHA301\n",
    "    * Delivery method: streamed\n",
    "    * Data stream: trhph_sample\n",
    "    * Parameter name: vent_fluid_temperaure\n",
    "    * Time range: 2017-09-01 to 2019-07-01"
   ]
  },
  {
   "cell_type": "markdown",
   "metadata": {},
   "source": [
    "The **request_data** function below sends data requests with inputs specified by the user to OOINet and returns the THREDDs urls where the downloaded data files can be found."
   ]
  },
  {
   "cell_type": "code",
   "execution_count": 2,
   "metadata": {},
   "outputs": [],
   "source": [
    "# enter your OOI API username and token, and directory where output .csv files are saved\n",
    "API_USERNAME = ''\n",
    "API_TOKEN = ''\n",
    "save_dir = '/Users/lgarzio/Documents/OOI/Nuggets/'"
   ]
  },
  {
   "cell_type": "code",
   "execution_count": 3,
   "metadata": {
    "colab": {},
    "colab_type": "code",
    "id": "B8cTVmt5mhsA"
   },
   "outputs": [],
   "source": [
    "def request_data(reference_designator, method, stream, start_date=None, end_date=None):\n",
    "    site = reference_designator[:8]\n",
    "    node = reference_designator[9:14]\n",
    "    instrument = reference_designator[15:]\n",
    "\n",
    "    # Create the request URL\n",
    "    api_base_url = 'https://ooinet.oceanobservatories.org/api/m2m/12576/sensor/inv'\n",
    "    data_request_url = '/'.join((api_base_url, site, node, instrument, method, stream))\n",
    "\n",
    "    # All of the following are optional, but you should specify a date range\n",
    "    params = {\n",
    "        'format': 'application/netcdf',\n",
    "        'include_provenance': 'true',\n",
    "        'include_annotations': 'true'\n",
    "    }\n",
    "    if start_date:\n",
    "        params['beginDT'] = start_date\n",
    "    if end_date:\n",
    "        params['endDT'] = end_date\n",
    "\n",
    "    # Make the data request\n",
    "    r = requests.get(data_request_url, params=params, auth=(API_USERNAME, API_TOKEN))\n",
    "    data = r.json()\n",
    "\n",
    "    # Return just the THREDDS URL\n",
    "    return data['allURLs'][0]"
   ]
  },
  {
   "cell_type": "markdown",
   "metadata": {},
   "source": [
    "Now, use that **request_data** function to download data for this instrument. You only need to do this once! These lines are commented out to prevent accidental re-submission of data requests."
   ]
  },
  {
   "cell_type": "code",
   "execution_count": 4,
   "metadata": {
    "colab": {},
    "colab_type": "code",
    "id": "GDx1obDmm11u"
   },
   "outputs": [],
   "source": [
    "# url = request_data('RS03INT1-MJ03C-10-TRHPHA301', 'streamed', 'trhph_sample',\n",
    "#                    '2017-09-01T00:00:00.000Z', '2019-07-01T00:00:00.000Z')\n",
    "\n",
    "# print('url = %s' %url)"
   ]
  },
  {
   "cell_type": "markdown",
   "metadata": {
    "colab_type": "text",
    "id": "UX_TNzTqephc"
   },
   "source": [
    "## 2. Load Data Files\n",
    "\n",
    "Copy the links to the THREDDs catalog above that resulted from the **request_data** function (to avoid re-requesting the data). Note: the url must be surrounded by quotations."
   ]
  },
  {
   "cell_type": "code",
   "execution_count": 5,
   "metadata": {
    "colab": {},
    "colab_type": "code",
    "id": "_zkTLF5gtPZx"
   },
   "outputs": [],
   "source": [
    "url = 'https://opendap.oceanobservatories.org/thredds/catalog/ooi/lgarzio@marine.rutgers.edu/20191113T202900648Z-RS03INT1-MJ03C-10-TRHPHA301-streamed-trhph_sample/catalog.html'"
   ]
  },
  {
   "cell_type": "markdown",
   "metadata": {},
   "source": [
    "The **get_data** function below:\n",
    "* selects the appropriate datasets in a THREDDs catalog by selecting NetCDF files and removing collocated datasets (if provided)\n",
    "* creates an empty dictionary with placeholders to populate with data just for variables of interest\n",
    "* creates another dictionary to store the units for the variables of interest\n",
    "* opens the dataset(s), extracts the data and units for the variables of interest and adds them to the dictionaries\n",
    "* converts the data dictionary to a dataframe\n",
    "* returns the dataframe and the dictionary containing the variable units. \n",
    "\n",
    "This type of function is most useful when working with multiple large/dense datasets (such as these cabled datasets), but is also fine for working with smaller datasets."
   ]
  },
  {
   "cell_type": "code",
   "execution_count": 6,
   "metadata": {
    "colab": {},
    "colab_type": "code",
    "id": "CIvFhvqdgBni"
   },
   "outputs": [],
   "source": [
    "def get_data(url, vars):\n",
    "    # Function to grab all data from specified directory\n",
    "    tds_url = 'https://opendap.oceanobservatories.org/thredds/dodsC'\n",
    "    dataset = requests.get(url).text\n",
    "    ii = re.findall(r'href=[\\'\"]?([^\\'\" >]+)', dataset)\n",
    "    # x = re.findall(r'(ooi/.*?.nc)', dataset)\n",
    "    x = [y for y in ii if y.endswith('.nc')]\n",
    "    for i in x:\n",
    "        if i.endswith('.nc') == False:\n",
    "            x.remove(i)\n",
    "    for i in x:\n",
    "        try:\n",
    "            float(i[-4])\n",
    "        except:\n",
    "            x.remove(i)\n",
    "    # dataset = [os.path.join(tds_url, i) for i in x]\n",
    "    datasets = [os.path.join(tds_url, i.split('=')[-1]) for i in x]\n",
    "\n",
    "    # remove collocated data files if necessary\n",
    "    catalog_rms = url.split('/')[-2][20:]\n",
    "    selected_datasets = []\n",
    "    for d in datasets:\n",
    "        if catalog_rms == d.split('/')[-1].split('_20')[0][15:]:\n",
    "            selected_datasets.append(d)\n",
    "\n",
    "    # create a dictionary to populate with data from the selected datasets\n",
    "    data_dict = {'time': np.array([], dtype='datetime64[ns]')}\n",
    "    unit_dict = {}\n",
    "    for v in vars:\n",
    "        data_dict.update({v: np.array([])})\n",
    "        unit_dict.update({v: []})\n",
    "\n",
    "    for sd in selected_datasets:\n",
    "        ds = xr.open_dataset(sd, mask_and_scale=False)\n",
    "        data_dict['time'] = np.append(data_dict['time'], ds['time'].values)\n",
    "        for var in vars:\n",
    "            data_dict[var] = np.append(data_dict[var], ds[var].values)\n",
    "            units = ds[var].units\n",
    "            if units not in unit_dict[var]:\n",
    "                unit_dict[var].append(units)\n",
    "\n",
    "    # convert dictionary to a dataframe\n",
    "    df = pd.DataFrame(data_dict)\n",
    "\n",
    "    return df, unit_dict"
   ]
  },
  {
   "cell_type": "code",
   "execution_count": 7,
   "metadata": {
    "colab": {},
    "colab_type": "code",
    "id": "L4dTLdWxgDU4"
   },
   "outputs": [
    {
     "name": "stdout",
     "output_type": "stream",
     "text": [
      "{'vent_fluid_temperaure': ['ºC']}\n"
     ]
    }
   ],
   "source": [
    "# specify the vent fluid temperature variable and get the data\n",
    "variables = ['vent_fluid_temperaure']\n",
    "\n",
    "TRHPH_data, TRHPH_units = get_data(url, variables)\n",
    "\n",
    "print(TRHPH_units)"
   ]
  },
  {
   "cell_type": "code",
   "execution_count": 8,
   "metadata": {},
   "outputs": [
    {
     "data": {
      "text/html": [
       "<div>\n",
       "<style scoped>\n",
       "    .dataframe tbody tr th:only-of-type {\n",
       "        vertical-align: middle;\n",
       "    }\n",
       "\n",
       "    .dataframe tbody tr th {\n",
       "        vertical-align: top;\n",
       "    }\n",
       "\n",
       "    .dataframe thead th {\n",
       "        text-align: right;\n",
       "    }\n",
       "</style>\n",
       "<table border=\"1\" class=\"dataframe\">\n",
       "  <thead>\n",
       "    <tr style=\"text-align: right;\">\n",
       "      <th></th>\n",
       "      <th>time</th>\n",
       "      <th>vent_fluid_temperaure</th>\n",
       "    </tr>\n",
       "  </thead>\n",
       "  <tbody>\n",
       "    <tr>\n",
       "      <th>0</th>\n",
       "      <td>2017-09-01 00:00:05.208806400</td>\n",
       "      <td>280.981201</td>\n",
       "    </tr>\n",
       "    <tr>\n",
       "      <th>1</th>\n",
       "      <td>2017-09-01 00:00:25.210193408</td>\n",
       "      <td>281.291992</td>\n",
       "    </tr>\n",
       "    <tr>\n",
       "      <th>2</th>\n",
       "      <td>2017-09-01 00:00:45.206465536</td>\n",
       "      <td>281.197052</td>\n",
       "    </tr>\n",
       "    <tr>\n",
       "      <th>3</th>\n",
       "      <td>2017-09-01 00:01:05.195227648</td>\n",
       "      <td>281.228699</td>\n",
       "    </tr>\n",
       "    <tr>\n",
       "      <th>4</th>\n",
       "      <td>2017-09-01 00:01:25.211326464</td>\n",
       "      <td>281.149628</td>\n",
       "    </tr>\n",
       "  </tbody>\n",
       "</table>\n",
       "</div>"
      ],
      "text/plain": [
       "                           time  vent_fluid_temperaure\n",
       "0 2017-09-01 00:00:05.208806400             280.981201\n",
       "1 2017-09-01 00:00:25.210193408             281.291992\n",
       "2 2017-09-01 00:00:45.206465536             281.197052\n",
       "3 2017-09-01 00:01:05.195227648             281.228699\n",
       "4 2017-09-01 00:01:25.211326464             281.149628"
      ]
     },
     "execution_count": 8,
     "metadata": {},
     "output_type": "execute_result"
    }
   ],
   "source": [
    "# make sure the timestamps are in ascending order\n",
    "TRHPH_data.sort_values(by=['time'], inplace=True)  \n",
    "\n",
    "# print the first few lines of data\n",
    "TRHPH_data.head()"
   ]
  },
  {
   "cell_type": "markdown",
   "metadata": {
    "colab_type": "text",
    "id": "iqBxQMaPOKlO"
   },
   "source": [
    "## Quick Data Plots\n",
    "Make a quick plot of vent fluid temperature."
   ]
  },
  {
   "cell_type": "code",
   "execution_count": 9,
   "metadata": {},
   "outputs": [
    {
     "data": {
      "image/png": "[encoded data removed]",
      "text/plain": [
       "<Figure size 864x432 with 1 Axes>"
      ]
     },
     "metadata": {
      "needs_background": "light"
     },
     "output_type": "display_data"
    }
   ],
   "source": [
    "fig, ax = plt.subplots(figsize=(12, 6))\n",
    "ax.plot(TRHPH_data['time'], TRHPH_data['vent_fluid_temperaure'], '.', markersize=3)\n",
    "ax.set_ylabel('Vent Fluid Absolute Temperature ({})'.format(TRHPH_units['vent_fluid_temperaure'][0]))\n",
    "ax.set_title('International District Vent Field 1');"
   ]
  },
  {
   "cell_type": "markdown",
   "metadata": {},
   "source": [
    "The data toward the end of the record are somewhat suspect, but the overall pattern of increasing temperatures over time is consistent. Let's calculate hourly averages to make the dataset more manageable."
   ]
  },
  {
   "cell_type": "code",
   "execution_count": 10,
   "metadata": {},
   "outputs": [
    {
     "data": {
      "text/html": [
       "<div>\n",
       "<style scoped>\n",
       "    .dataframe tbody tr th:only-of-type {\n",
       "        vertical-align: middle;\n",
       "    }\n",
       "\n",
       "    .dataframe tbody tr th {\n",
       "        vertical-align: top;\n",
       "    }\n",
       "\n",
       "    .dataframe thead th {\n",
       "        text-align: right;\n",
       "    }\n",
       "</style>\n",
       "<table border=\"1\" class=\"dataframe\">\n",
       "  <thead>\n",
       "    <tr style=\"text-align: right;\">\n",
       "      <th></th>\n",
       "      <th>time</th>\n",
       "      <th>Vent Fluid Absolute Temperature (deg_C)</th>\n",
       "    </tr>\n",
       "  </thead>\n",
       "  <tbody>\n",
       "    <tr>\n",
       "      <th>0</th>\n",
       "      <td>2017-09-01 00:00:00</td>\n",
       "      <td>280.978258</td>\n",
       "    </tr>\n",
       "    <tr>\n",
       "      <th>1</th>\n",
       "      <td>2017-09-01 01:00:00</td>\n",
       "      <td>280.941857</td>\n",
       "    </tr>\n",
       "    <tr>\n",
       "      <th>2</th>\n",
       "      <td>2017-09-01 02:00:00</td>\n",
       "      <td>280.917389</td>\n",
       "    </tr>\n",
       "    <tr>\n",
       "      <th>3</th>\n",
       "      <td>2017-09-01 03:00:00</td>\n",
       "      <td>280.943969</td>\n",
       "    </tr>\n",
       "    <tr>\n",
       "      <th>4</th>\n",
       "      <td>2017-09-01 04:00:00</td>\n",
       "      <td>280.986336</td>\n",
       "    </tr>\n",
       "  </tbody>\n",
       "</table>\n",
       "</div>"
      ],
      "text/plain": [
       "                 time  Vent Fluid Absolute Temperature (deg_C)\n",
       "0 2017-09-01 00:00:00                               280.978258\n",
       "1 2017-09-01 01:00:00                               280.941857\n",
       "2 2017-09-01 02:00:00                               280.917389\n",
       "3 2017-09-01 03:00:00                               280.943969\n",
       "4 2017-09-01 04:00:00                               280.986336"
      ]
     },
     "execution_count": 10,
     "metadata": {},
     "output_type": "execute_result"
    }
   ],
   "source": [
    "# calculate hourly averages to make the dataset more manageable\n",
    "TRHPH_hourly = TRHPH_data.resample('H', on='time').mean().dropna(how='all').reset_index()\n",
    "TRHPH_hourly = TRHPH_hourly.rename(columns={'vent_fluid_temperaure': 'Vent Fluid Absolute Temperature (deg_C)'})\n",
    "TRHPH_hourly.head()"
   ]
  },
  {
   "cell_type": "code",
   "execution_count": 11,
   "metadata": {
    "colab": {
     "base_uri": "https://localhost:8080/",
     "height": 876
    },
    "colab_type": "code",
    "id": "0-XCeqpfpc1O",
    "outputId": "2e8c93d2-27a4-470b-b27c-17c8a84d579f"
   },
   "outputs": [
    {
     "data": {
      "image/png": "[encoded data removed]",
      "text/plain": [
       "<Figure size 864x432 with 1 Axes>"
      ]
     },
     "metadata": {
      "needs_background": "light"
     },
     "output_type": "display_data"
    }
   ],
   "source": [
    "# plot hourly-averaged data\n",
    "fig, ax = plt.subplots(figsize=(12, 6))\n",
    "ax.plot(TRHPH_hourly['time'], TRHPH_hourly['Vent Fluid Absolute Temperature (deg_C)'], '.', markersize=3)\n",
    "ax.set_ylabel('Vent Fluid Absolute Temperature ({})'.format(TRHPH_units['vent_fluid_temperaure'][0]))\n",
    "ax.set_title('International District Vent Field 1 (hourly averaged)');"
   ]
  },
  {
   "cell_type": "markdown",
   "metadata": {},
   "source": [
    "## 3. Export to csv\n",
    "Export the hourly-averaged dataset to a .csv file."
   ]
  },
  {
   "cell_type": "code",
   "execution_count": 12,
   "metadata": {
    "colab": {},
    "colab_type": "code",
    "id": "f1uV_LLRFTtb"
   },
   "outputs": [],
   "source": [
    "TRHPH_hourly.to_csv(os.path.join(save_dir, 'Theme5_INT1_vent_fluid_temps.csv'), index=False)"
   ]
  }
 ],
 "metadata": {
  "colab": {
   "collapsed_sections": [],
   "name": "DL June Air-Sea v1.ipynb",
   "provenance": [],
   "toc_visible": true,
   "version": "0.3.2"
  },
  "kernelspec": {
   "display_name": "Python 3",
   "language": "python",
   "name": "python3"
  },
  "language_info": {
   "codemirror_mode": {
    "name": "ipython",
    "version": 3
   },
   "file_extension": ".py",
   "mimetype": "text/x-python",
   "name": "python",
   "nbconvert_exporter": "python",
   "pygments_lexer": "ipython3",
   "version": "3.7.2"
  }
 },
 "nbformat": 4,
 "nbformat_minor": 1
}
