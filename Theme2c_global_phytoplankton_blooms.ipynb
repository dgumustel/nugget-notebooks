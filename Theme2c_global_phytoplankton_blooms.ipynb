{
 "cells": [
  {
   "cell_type": "markdown",
   "metadata": {
    "colab_type": "text",
    "id": "OoQxh3aneS5M"
   },
   "source": [
    "# Theme 2 - Climate Variability, Ocean Circulation, and Ecosystem\n",
    "## Global Biogeochemistry and Carbon Cycling\n",
    "OOI Data Labs Education Nuggets\n",
    "\n",
    "**Objective**: Demonstrate how to download chlorophyll-a data from the OOI system using the Machine-to-Machine (M2M) interface and export the data as a .csv file."
   ]
  },
  {
   "cell_type": "code",
   "execution_count": 1,
   "metadata": {
    "colab": {
     "base_uri": "https://localhost:8080/",
     "height": 127
    },
    "colab_type": "code",
    "id": "Ey4nt43pq-yt",
    "outputId": "3ffbaf02-acf3-4816-bb4b-2840382527d8"
   },
   "outputs": [],
   "source": [
    "# Notebook Setup\n",
    "import requests\n",
    "import os\n",
    "import re\n",
    "import xarray as xr\n",
    "import pandas as pd\n",
    "import numpy as np\n",
    "import matplotlib.pyplot as plt"
   ]
  },
  {
   "cell_type": "markdown",
   "metadata": {
    "colab_type": "text",
    "id": "t1ZezcZjeoUd"
   },
   "source": [
    "## 1. Request Data from OOINet\n",
    "\n",
    "* **Global Irminger Sea** - Chlorophyll-a data from both Flanking Moorings\n",
    "    * Instruments:\n",
    "        * Irminger Flanking Mooring A Fluorometer: GI03FLMA-RIS01-05-FLORTD000\n",
    "        * Irminger Flanking Mooring B Fluorometer: GI03FLMB-RIS01-05-FLORTD000\n",
    "    * Time range: 2014-09-01 to 2015-09-01\n",
    "    * Delivery method, data stream, and parameter name: recovered_host, flort_sample, fluorometric_chlorophyll_a\n",
    "* **Global Argentine Basin** - Chlorophyll-a data from the Surface Mooring at 12m depth\n",
    "    * Instrument: GA01SUMO-RID16-02-FLORTD000\n",
    "    * Time range: 2015-03-15 to 2018-01-15\n",
    "    * Delivery method, data stream, and parameter name: recovered_host, flort_sample, fluorometric_chlorophyll_a"
   ]
  },
  {
   "cell_type": "markdown",
   "metadata": {},
   "source": [
    "The **request_data** function below sends data requests with inputs specified by the user to OOINet and returns the THREDDs urls where the downloaded data files can be found."
   ]
  },
  {
   "cell_type": "code",
   "execution_count": 2,
   "metadata": {},
   "outputs": [],
   "source": [
    "# enter your OOI API username and token, and directory where output .csv files are saved\n",
    "API_USERNAME = ''\n",
    "API_TOKEN = ''\n",
    "save_dir = '/Users/lgarzio/Documents/OOI/Nuggets/'"
   ]
  },
  {
   "cell_type": "code",
   "execution_count": 3,
   "metadata": {
    "colab": {},
    "colab_type": "code",
    "id": "B8cTVmt5mhsA"
   },
   "outputs": [],
   "source": [
    "def request_data(reference_designator, method, stream, start_date=None, end_date=None):\n",
    "    site = reference_designator[:8]\n",
    "    node = reference_designator[9:14]\n",
    "    instrument = reference_designator[15:]\n",
    "\n",
    "    # Create the request URL\n",
    "    api_base_url = 'https://ooinet.oceanobservatories.org/api/m2m/12576/sensor/inv'\n",
    "    data_request_url = '/'.join((api_base_url, site, node, instrument, method, stream))\n",
    "\n",
    "    # All of the following are optional, but you should specify a date range\n",
    "    params = {\n",
    "        'format': 'application/netcdf',\n",
    "        'include_provenance': 'true',\n",
    "        'include_annotations': 'true'\n",
    "    }\n",
    "    if start_date:\n",
    "        params['beginDT'] = start_date\n",
    "    if end_date:\n",
    "        params['endDT'] = end_date\n",
    "\n",
    "    # Make the data request\n",
    "    r = requests.get(data_request_url, params=params, auth=(API_USERNAME, API_TOKEN))\n",
    "    data = r.json()\n",
    "\n",
    "    # Return just the THREDDS URL\n",
    "    return data['allURLs'][0]"
   ]
  },
  {
   "cell_type": "markdown",
   "metadata": {},
   "source": [
    "Now, use that **request_data** function to download data for the three instruments of interest. You only need to do this once! These lines are commented out to prevent accidental re-submission of data requests."
   ]
  },
  {
   "cell_type": "code",
   "execution_count": 4,
   "metadata": {
    "colab": {},
    "colab_type": "code",
    "id": "GDx1obDmm11u"
   },
   "outputs": [],
   "source": [
    "# GI03FLMA_url = request_data('GI03FLMA-RIS01-05-FLORTD000', 'recovered_host', 'flort_sample',\n",
    "#                             '2014-09-01T00:00:00.000Z', '2015-09-01T00:00:00.000Z')\n",
    "# \n",
    "# GI03FLMB_url = request_data('GI03FLMB-RIS01-05-FLORTD000', 'recovered_host', 'flort_sample',\n",
    "#                             '2014-09-01T00:00:00.000Z', '2015-09-01T00:00:00.000Z')\n",
    "# \n",
    "# GA01SUMO_url = request_data('GA01SUMO-RID16-02-FLORTD000', 'recovered_host', 'flort_sample',\n",
    "#                             '2015-03-15T00:00:00.000Z', '2018-01-15T00:00:00.000Z')\n",
    "# print('GI03FLMA_url = %s' %GI03FLMA_url)\n",
    "# print('GI03FLMB_url = %s' %GI03FLMB_url)\n",
    "# print('GA01SUMO_url  %s' %GA01SUMO_url)"
   ]
  },
  {
   "cell_type": "markdown",
   "metadata": {
    "colab_type": "text",
    "id": "UX_TNzTqephc"
   },
   "source": [
    "## 2. Load Data Files\n",
    "\n",
    "Copy the links to the THREDDs catalog above that resulted from the **request_data** function (to avoid re-requesting the data). Note: the urls must be surrounded by quotations."
   ]
  },
  {
   "cell_type": "code",
   "execution_count": 5,
   "metadata": {
    "colab": {},
    "colab_type": "code",
    "id": "_zkTLF5gtPZx"
   },
   "outputs": [],
   "source": [
    "GI03FLMA_url = 'https://opendap.oceanobservatories.org/thredds/catalog/ooi/lgarzio@marine.rutgers.edu/20190809T155426809Z-GI03FLMA-RIS01-05-FLORTD000-recovered_host-flort_sample/catalog.html'\n",
    "GI03FLMB_url = 'https://opendap.oceanobservatories.org/thredds/catalog/ooi/lgarzio@marine.rutgers.edu/20190809T155427737Z-GI03FLMB-RIS01-05-FLORTD000-recovered_host-flort_sample/catalog.html'\n",
    "GA01SUMO_url = 'https://opendap.oceanobservatories.org/thredds/catalog/ooi/lgarzio@marine.rutgers.edu/20190809T155428629Z-GA01SUMO-RID16-02-FLORTD000-recovered_host-flort_sample/catalog.html'"
   ]
  },
  {
   "cell_type": "markdown",
   "metadata": {},
   "source": [
    "The **get_data** function below:\n",
    "* selects the appropriate datasets in a THREDDs catalog by selecting NetCDF files and removing collocated datasets (if provided)\n",
    "* creates an empty dictionary with placeholders to populate with data just for variables of interest\n",
    "* creates another dictionary to store the units for the variables of interest\n",
    "* opens the dataset(s), extracts the data and units for the variables of interest and adds them to the dictionaries\n",
    "* converts the data dictionary to a dataframe\n",
    "* returns the dataframe and the dictionary containing the variable units. \n",
    "\n",
    "This type of function is most useful when working with multiple large/dense datasets, but is also fine for working with smaller datasets."
   ]
  },
  {
   "cell_type": "code",
   "execution_count": 6,
   "metadata": {
    "colab": {},
    "colab_type": "code",
    "id": "CIvFhvqdgBni"
   },
   "outputs": [],
   "source": [
    "def get_data(url, vars):\n",
    "    # Function to grab all data from specified directory\n",
    "    tds_url = 'https://opendap.oceanobservatories.org/thredds/dodsC'\n",
    "    dataset = requests.get(url).text\n",
    "    ii = re.findall(r'href=[\\'\"]?([^\\'\" >]+)', dataset)\n",
    "    # x = re.findall(r'(ooi/.*?.nc)', dataset)\n",
    "    x = [y for y in ii if y.endswith('.nc')]\n",
    "    for i in x:\n",
    "        if i.endswith('.nc') == False:\n",
    "            x.remove(i)\n",
    "    for i in x:\n",
    "        try:\n",
    "            float(i[-4])\n",
    "        except:\n",
    "            x.remove(i)\n",
    "    # dataset = [os.path.join(tds_url, i) for i in x]\n",
    "    datasets = [os.path.join(tds_url, i.split('=')[-1]) for i in x]\n",
    "\n",
    "    # remove collocated data files if necessary\n",
    "    catalog_rms = url.split('/')[-2][20:]\n",
    "    selected_datasets = []\n",
    "    for d in datasets:\n",
    "        if catalog_rms == d.split('/')[-1].split('_20')[0][15:]:\n",
    "            selected_datasets.append(d)\n",
    "\n",
    "    # create a dictionary to populate with data from the selected datasets\n",
    "    data_dict = {'time': np.array([], dtype='datetime64[ns]')}\n",
    "    unit_dict = {}\n",
    "    for v in vars:\n",
    "        data_dict.update({v: np.array([])})\n",
    "        unit_dict.update({v: []})\n",
    "\n",
    "    for sd in selected_datasets:\n",
    "        ds = xr.open_dataset(sd, mask_and_scale=False)\n",
    "        data_dict['time'] = np.append(data_dict['time'], ds['time'].values)\n",
    "        for var in vars:\n",
    "            data_dict[var] = np.append(data_dict[var], ds[var].values)\n",
    "            units = ds[var].units\n",
    "            if units not in unit_dict[var]:\n",
    "                unit_dict[var].append(units)\n",
    "\n",
    "    # convert dictionary to a dataframe\n",
    "    df = pd.DataFrame(data_dict)\n",
    "\n",
    "    return df, unit_dict"
   ]
  },
  {
   "cell_type": "code",
   "execution_count": 7,
   "metadata": {
    "colab": {},
    "colab_type": "code",
    "id": "L4dTLdWxgDU4"
   },
   "outputs": [
    {
     "name": "stdout",
     "output_type": "stream",
     "text": [
      "{'fluorometric_chlorophyll_a': ['µg L-1']}\n"
     ]
    }
   ],
   "source": [
    "# Specify the variable(s) of interest and get the data for the three datasets\n",
    "variables = ['fluorometric_chlorophyll_a']\n",
    "\n",
    "GI03FLMA_data, GI03FLMA_units = get_data(GI03FLMA_url, variables)\n",
    "GI03FLMB_data, GI03FLMB_units = get_data(GI03FLMB_url, variables)\n",
    "GA01SUMO_data, GA01SUMO_units = get_data(GA01SUMO_url, variables)\n",
    "print(GI03FLMA_units)"
   ]
  },
  {
   "cell_type": "markdown",
   "metadata": {
    "colab_type": "text",
    "id": "iqBxQMaPOKlO"
   },
   "source": [
    "## Quick Data Plots\n",
    "Make quick plots to make sure you downloaded the correct data."
   ]
  },
  {
   "cell_type": "code",
   "execution_count": 8,
   "metadata": {
    "colab": {
     "base_uri": "https://localhost:8080/",
     "height": 876
    },
    "colab_type": "code",
    "id": "0-XCeqpfpc1O",
    "outputId": "2e8c93d2-27a4-470b-b27c-17c8a84d579f"
   },
   "outputs": [
    {
     "data": {
      "image/png": "[encoded data removed]",
      "text/plain": [
       "<Figure size 432x288 with 1 Axes>"
      ]
     },
     "metadata": {
      "needs_background": "light"
     },
     "output_type": "display_data"
    }
   ],
   "source": [
    "# Plot the Irminger Sea data\n",
    "fig, ax = plt.subplots()\n",
    "plt.plot(GI03FLMA_data['time'], GI03FLMA_data['fluorometric_chlorophyll_a'], '.', label='GI03FLMA')\n",
    "plt.plot(GI03FLMB_data['time'], GI03FLMB_data['fluorometric_chlorophyll_a'], '.', label='GI03FLMB')\n",
    "ax.legend()\n",
    "ax.set_xlabel('')\n",
    "ax.set_ylabel('')\n",
    "ax.set_title('Irminger Sea Chlorophyll-a ({})'.format(GI03FLMA_units['fluorometric_chlorophyll_a'][0]));"
   ]
  },
  {
   "cell_type": "code",
   "execution_count": 9,
   "metadata": {
    "colab": {
     "base_uri": "https://localhost:8080/",
     "height": 549
    },
    "colab_type": "code",
    "id": "65N5_a1IRbSG",
    "outputId": "ba457ecf-1ca5-42d1-c17d-252d96ccace4"
   },
   "outputs": [
    {
     "data": {
      "image/png": "[encoded data removed]",
      "text/plain": [
       "<Figure size 432x288 with 1 Axes>"
      ]
     },
     "metadata": {
      "needs_background": "light"
     },
     "output_type": "display_data"
    }
   ],
   "source": [
    "# Plot the Argentine Basin data - this may take a while because there are 3 years of data to plot\n",
    "fig, ax = plt.subplots()\n",
    "plt.plot(GA01SUMO_data['time'], GA01SUMO_data['fluorometric_chlorophyll_a'], '.', label='GA01SUMO')\n",
    "ax.legend()\n",
    "ax.set_xlabel('')\n",
    "ax.set_ylabel('')\n",
    "ax.set_title('Argentine Basin Chlorophyll-a ({})'.format(GA01SUMO_units['fluorometric_chlorophyll_a'][0]))\n",
    "plt.xticks(rotation=35);"
   ]
  },
  {
   "cell_type": "markdown",
   "metadata": {
    "colab": {
     "base_uri": "https://localhost:8080/",
     "height": 621
    },
    "colab_type": "code",
    "id": "vEmA6lC3gHWx",
    "outputId": "f7e79a9d-d2ca-4880-90ca-864f38ca3fb9"
   },
   "source": [
    "It looks like there are some extreme chlorophyll values in the Argentine Basin data in 2015. From the Data Review Report [here](https://datareview.marine.rutgers.edu/instruments/report/GA01SUMO-RID16-02-FLORTD000) it looks like data from 9/1/2015 to 11/1/2015 are suspect so we will need to remove those data before creating the final .csv file."
   ]
  },
  {
   "cell_type": "markdown",
   "metadata": {
    "colab_type": "text",
    "id": "1MMalPTQerEa"
   },
   "source": [
    "## 3. Merge and export\n",
    "We will need to merge the Irminger Sea dataframes to export those data to one .csv file. The fluorometers on the Global Flanking Moorings take one sample every 15 minutes, and since we downloaded a relatively short time frame (1 year) we can export the full dataset. For the Argentine Basin data, we will first calculate hourly averages to make the dataset more manageable (the sampling rates are higher for the fluorometers on the Global Surface Moorings, and the time range we selected is longer), then filter out the suspect data range."
   ]
  },
  {
   "cell_type": "code",
   "execution_count": 10,
   "metadata": {
    "colab": {},
    "colab_type": "code",
    "id": "f1uV_LLRFTtb"
   },
   "outputs": [],
   "source": [
    "# Merge the Irminger Sea dataframes\n",
    "# cut off the seconds in the time stamp\n",
    "GI03FLMA_data['time'] = GI03FLMA_data['time'].apply(lambda t: t.strftime('%Y-%m-%d %H:%M'))\n",
    "GI03FLMB_data['time'] = GI03FLMB_data['time'].apply(lambda t: t.strftime('%Y-%m-%d %H:%M'))\n",
    "\n",
    "# rename and add units to the columns\n",
    "GI03FLMA_data = GI03FLMA_data.rename(columns={'fluorometric_chlorophyll_a': 'GI03FLMA Chlorophyll ({})'.format(\n",
    "    GI03FLMA_units['fluorometric_chlorophyll_a'][0])})\n",
    "GI03FLMB_data = GI03FLMB_data.rename(columns={'fluorometric_chlorophyll_a': 'GI03FLMB Chlorophyll ({})'.format(\n",
    "    GI03FLMB_units['fluorometric_chlorophyll_a'][0])})\n",
    "\n",
    "# merge the dataframes and export to csv\n",
    "merged = pd.merge(GI03FLMA_data, GI03FLMB_data, on='time', how='outer')\n",
    "merged = merged.sort_values('time').reset_index(drop=True)  # make sure the dataframe is sorted by time"
   ]
  },
  {
   "cell_type": "code",
   "execution_count": 11,
   "metadata": {},
   "outputs": [],
   "source": [
    "# export to csv\n",
    "merged.to_csv(os.path.join(save_dir, 'Theme2c_Irminger_chla.csv'), index=False)"
   ]
  },
  {
   "cell_type": "code",
   "execution_count": 12,
   "metadata": {
    "colab": {
     "base_uri": "https://localhost:8080/",
     "height": 592
    },
    "colab_type": "code",
    "id": "WP03Z3q1qmCV",
    "outputId": "b1735722-a0e3-4a50-cfb3-ff98a46cc691"
   },
   "outputs": [],
   "source": [
    "# Modify the Argentine Basin dataframe\n",
    "# rename and add units to the columns\n",
    "GA01SUMO_data = GA01SUMO_data.rename(columns={'fluorometric_chlorophyll_a': 'GA01SUMO Chlorophyll ({})'.format(\n",
    "    GA01SUMO_units['fluorometric_chlorophyll_a'][0])})\n",
    "\n",
    "# calculate hourly averages\n",
    "GA01SUMO_df_hourly = GA01SUMO_data.resample('H', on='time').mean().dropna(how='all').reset_index()\n",
    "\n",
    "# filter out suspect time range\n",
    "GA01SUMO_filt = GA01SUMO_df_hourly.loc[(GA01SUMO_df_hourly['time'] < '9-1-2015') | (GA01SUMO_df_hourly['time'] > '11-1-2015')]"
   ]
  },
  {
   "cell_type": "code",
   "execution_count": 13,
   "metadata": {},
   "outputs": [
    {
     "data": {
      "image/png": "[encoded data removed]",
      "text/plain": [
       "<Figure size 432x288 with 1 Axes>"
      ]
     },
     "metadata": {
      "needs_background": "light"
     },
     "output_type": "display_data"
    }
   ],
   "source": [
    "# Plot the Argentine Basin data again to make sure the suspect data were removed\n",
    "fig, ax = plt.subplots()\n",
    "plt.plot(GA01SUMO_filt['time'], GA01SUMO_filt['GA01SUMO Chlorophyll (µg L-1)'], '.', label='GA01SUMO')\n",
    "ax.legend()\n",
    "ax.set_xlabel('')\n",
    "ax.set_ylabel('')\n",
    "ax.set_title('Argentine Basin Chlorophyll-a ({})'.format(GA01SUMO_units['fluorometric_chlorophyll_a'][0]))\n",
    "plt.xticks(rotation=35);"
   ]
  },
  {
   "cell_type": "code",
   "execution_count": 14,
   "metadata": {},
   "outputs": [],
   "source": [
    "# Looks much better! Export the final dataset to csv\n",
    "GA01SUMO_filt.to_csv(os.path.join(save_dir, 'Theme2c_ArgentineBasin_chla.csv'), index=False)"
   ]
  }
 ],
 "metadata": {
  "colab": {
   "collapsed_sections": [],
   "name": "DL June Air-Sea v1.ipynb",
   "provenance": [],
   "toc_visible": true,
   "version": "0.3.2"
  },
  "kernelspec": {
   "display_name": "Python 3",
   "language": "python",
   "name": "python3"
  },
  "language_info": {
   "codemirror_mode": {
    "name": "ipython",
    "version": 3
   },
   "file_extension": ".py",
   "mimetype": "text/x-python",
   "name": "python",
   "nbconvert_exporter": "python",
   "pygments_lexer": "ipython3",
   "version": "3.7.2"
  }
 },
 "nbformat": 4,
 "nbformat_minor": 1
}
